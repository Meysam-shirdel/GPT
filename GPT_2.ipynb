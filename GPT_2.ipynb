{
  "nbformat": 4,
  "nbformat_minor": 0,
  "metadata": {
    "colab": {
      "provenance": [],
      "collapsed_sections": [
        "1s7rGBAk2v9m",
        "PBLo55Uf-6Y7",
        "roxj_00_22sl",
        "dxL1lsz-2-3d",
        "29f_eDLAIIQx",
        "6nY4FbHSIaZp",
        "iIY3cmzPCmx3",
        "JxOaB4rBI6_n"
      ],
      "authorship_tag": "ABX9TyNhw0DfKBN2EGfPBOU1HynF",
      "include_colab_link": true
    },
    "kernelspec": {
      "name": "python3",
      "display_name": "Python 3"
    },
    "language_info": {
      "name": "python"
    }
  },
  "cells": [
    {
      "cell_type": "markdown",
      "metadata": {
        "id": "view-in-github",
        "colab_type": "text"
      },
      "source": [
        "<a href=\"https://colab.research.google.com/github/Meysam-shirdel/GPT/blob/main/GPT_2.ipynb\" target=\"_parent\"><img src=\"https://colab.research.google.com/assets/colab-badge.svg\" alt=\"Open In Colab\"/></a>"
      ]
    },
    {
      "cell_type": "markdown",
      "source": [
        "# GPT 2"
      ],
      "metadata": {
        "id": "LirYPj-2LNh2"
      }
    },
    {
      "cell_type": "markdown",
      "source": [
        "## Install & Import Libraries"
      ],
      "metadata": {
        "id": "1s7rGBAk2v9m"
      }
    },
    {
      "cell_type": "code",
      "source": [
        "!pip  install -q tiktoken\n",
        "!pip install -q tqdm"
      ],
      "metadata": {
        "collapsed": true,
        "id": "dim6hsGIR4gI",
        "colab": {
          "base_uri": "https://localhost:8080/"
        },
        "outputId": "5121d0b2-328f-4637-a012-10d4cadf8e40"
      },
      "execution_count": null,
      "outputs": [
        {
          "output_type": "stream",
          "name": "stdout",
          "text": [
            "\u001b[?25l   \u001b[90m━━━━━━━━━━━━━━━━━━━━━━━━━━━━━━━━━━━━━━━━\u001b[0m \u001b[32m0.0/1.1 MB\u001b[0m \u001b[31m?\u001b[0m eta \u001b[36m-:--:--\u001b[0m\r\u001b[2K   \u001b[91m━━━━━━━━━━━━━━━\u001b[0m\u001b[91m╸\u001b[0m\u001b[90m━━━━━━━━━━━━━━━━━━━━━━━━\u001b[0m \u001b[32m0.4/1.1 MB\u001b[0m \u001b[31m12.6 MB/s\u001b[0m eta \u001b[36m0:00:01\u001b[0m\r\u001b[2K   \u001b[90m━━━━━━━━━━━━━━━━━━━━━━━━━━━━━━━━━━━━━━━━\u001b[0m \u001b[32m1.1/1.1 MB\u001b[0m \u001b[31m18.8 MB/s\u001b[0m eta \u001b[36m0:00:00\u001b[0m\n",
            "\u001b[?25h"
          ]
        }
      ]
    },
    {
      "cell_type": "code",
      "source": [
        "import math\n",
        "import os\n",
        "import warnings\n",
        "import time\n",
        "import random\n",
        "\n",
        "\n",
        "import numpy as np\n",
        "import matplotlib.pyplot as plt\n",
        "\n",
        "import torch\n",
        "import torch.nn as nn\n",
        "from   torch.utils.data import Dataset, DataLoader\n",
        "from   torch.nn import functional as F\n",
        "import torch.utils.checkpoint\n",
        "from   torch.nn import BCEWithLogitsLoss, CrossEntropyLoss, MSELoss\n",
        "\n",
        "from dataclasses import dataclass\n",
        "from typing import Optional, Tuple, Union\n",
        "\n",
        "\n",
        "from transformers import GPT2LMHeadModel\n",
        "\n",
        "import tiktoken\n",
        "import tqdm\n"
      ],
      "metadata": {
        "id": "HGgQh-X-KZxJ"
      },
      "execution_count": null,
      "outputs": []
    },
    {
      "cell_type": "markdown",
      "source": [
        "## Config"
      ],
      "metadata": {
        "id": "PBLo55Uf-6Y7"
      }
    },
    {
      "cell_type": "code",
      "source": [
        "device = 'cpu'\n",
        "if torch.cuda.is_available():\n",
        "  device ='cuda'\n",
        "#---------------------------------GPTConfig -----------------------------\n",
        "@dataclass\n",
        "class GPTConfig:\n",
        "  n_layers: int= 12\n",
        "  n_heads: int = 12\n",
        "  n_embed: int = 768\n",
        "  vocab_size: int= 50257\n",
        "  block_size: int= 32\n",
        "\n"
      ],
      "metadata": {
        "id": "DAdiA2i3_HTL"
      },
      "execution_count": null,
      "outputs": []
    },
    {
      "cell_type": "code",
      "source": [
        "class AverageMeter(object):\n",
        "    \"\"\"Computes and stores the average and current value\"\"\"\n",
        "    def __init__(self):\n",
        "        self.reset()\n",
        "\n",
        "    def reset(self):\n",
        "        self.val = 0\n",
        "        self.avg = 0\n",
        "        self.sum = 0\n",
        "        self.count = 0\n",
        "\n",
        "    def update(self, val, n=1):\n",
        "        self.val = val\n",
        "        self.sum += val * n\n",
        "        self.count += n\n",
        "        self.avg = self.sum / self.count"
      ],
      "metadata": {
        "id": "2qB2s3nwEbKT"
      },
      "execution_count": null,
      "outputs": []
    },
    {
      "cell_type": "markdown",
      "source": [
        "## Load Dataset"
      ],
      "metadata": {
        "id": "roxj_00_22sl"
      }
    },
    {
      "cell_type": "code",
      "source": [
        "!wget -q https://raw.githubusercontent.com/karpathy/char-rnn/master/data/tinyshakespeare/input.txt"
      ],
      "metadata": {
        "id": "UVkEgWs9u6nN",
        "collapsed": true
      },
      "execution_count": null,
      "outputs": []
    },
    {
      "cell_type": "markdown",
      "source": [
        "###  DataSet"
      ],
      "metadata": {
        "id": "dxL1lsz-2-3d"
      }
    },
    {
      "cell_type": "code",
      "source": [
        "def create_vocabs(file_path):\n",
        "\n",
        "    with open(file_path, 'r') as f:\n",
        "      text = f.read()\n",
        "    encoder = tiktoken.get_encoding(\"gpt2\")\n",
        "    tokens = torch.tensor(encoder.encode(text))\n",
        "    tr_tokens = tokens[: int(len(tokens)*0.8)]\n",
        "    val_tokens = tokens[int(len(tokens)*0.8) :]\n",
        "\n",
        "    return tr_tokens, val_tokens\n",
        "\n",
        "train_tokens, valid_tokens = create_vocabs('input.txt')"
      ],
      "metadata": {
        "id": "jZlBvJcUh1TD"
      },
      "execution_count": null,
      "outputs": []
    },
    {
      "cell_type": "code",
      "source": [
        "class Custom_Dataset(Dataset):\n",
        "  def __init__(self, tokens, block_size ):\n",
        "\n",
        "    self.block_size = block_size   # length of token sequesnce\n",
        "    self.tokens = tokens\n",
        "    r = len(self.tokens) % block_size\n",
        "    self.tokens = self.tokens[:-r].view(-1, block_size)\n",
        "\n",
        "\n",
        "  def __getitem__(self, idx):\n",
        "    temp = self.tokens[idx]\n",
        "    x = temp[:-1]\n",
        "    y = temp[1:]\n",
        "\n",
        "    return x,y\n",
        "\n",
        "  def __len__(self):\n",
        "    return self.tokens.shape[0]"
      ],
      "metadata": {
        "id": "i7dDmyOp3Ejt"
      },
      "execution_count": null,
      "outputs": []
    },
    {
      "cell_type": "code",
      "source": [
        "train_set = Custom_Dataset(train_tokens, block_size= GPTConfig().block_size)\n",
        "valid_set = Custom_Dataset(valid_tokens, block_size=GPTConfig().block_size)"
      ],
      "metadata": {
        "id": "0rhdLmSvMuVO"
      },
      "execution_count": null,
      "outputs": []
    },
    {
      "cell_type": "markdown",
      "source": [
        "### DataLoader"
      ],
      "metadata": {
        "id": "29f_eDLAIIQx"
      }
    },
    {
      "cell_type": "code",
      "source": [
        "train_loader = DataLoader(dataset= train_set, batch_size=4, shuffle=True)\n",
        "valid_loader = DataLoader(dataset= valid_set, batch_size=4, shuffle=True)"
      ],
      "metadata": {
        "id": "gCorL5g2G5iq"
      },
      "execution_count": null,
      "outputs": []
    },
    {
      "cell_type": "markdown",
      "source": [
        "## Model"
      ],
      "metadata": {
        "id": "6nY4FbHSIaZp"
      }
    },
    {
      "cell_type": "code",
      "source": [
        "\n",
        "#---------------------------------MLP -----------------------------\n",
        "class MLP(nn.Module):\n",
        "  def __init__(self, config):\n",
        "    super().__init__()\n",
        "\n",
        "    self.fc = nn.Linear(config.n_embed, 4 * config.n_embed)\n",
        "    self.gelu_af = nn.GELU(approximate='tanh')\n",
        "    self.fc_proj = nn.Linear(4 * config.n_embed, config.n_embed)\n",
        "    self.fc_proj.SKAIL = 1\n",
        "\n",
        "  def forward(self, x):\n",
        "    x = self.fc(x)\n",
        "    x = self.gelu_af(x)\n",
        "    x = self.fc_proj(x)\n",
        "    return x\n",
        "\n",
        "\n",
        "#---------------------------------AttentionBlock ------------------\n",
        "class AttentionBlock(nn.Module):\n",
        "  def __init__(self, config):\n",
        "    super().__init__()\n",
        "    self.config = config\n",
        "\n",
        "    self.c_attn = nn.Linear(config.n_embed, 3 * config.n_embed)\n",
        "    self.c_proj = nn.Linear(config.n_embed, config.n_embed)\n",
        "    self.c_proj.SKAIL = 1\n",
        "\n",
        "    self.n_heads = config.n_heads\n",
        "    self.n_embed = config.n_embed\n",
        "\n",
        "    self.register_buffer(\"bias\", torch.tril(torch.ones(self.config.block_size, self.config.block_size))\n",
        "                                  .view(1,1, self.config.block_size, self.config.block_size))\n",
        "\n",
        "  def forward(self, x):\n",
        "\n",
        "    B, T, C = x.size()\n",
        "    #print(B,T,C)\n",
        "\n",
        "    QKV = self.c_attn(x)\n",
        "    Q, K, V = QKV.split( self.config.n_embed, dim=2 )\n",
        "    #print(f'Q size : {Q.size()}')\n",
        "    #print(f'Q(B,T,heads, embeds) : {Q.view(B,T, self.n_heads, C // self.n_heads).size()}')\n",
        "    Q = Q.view(B,T, self.n_heads, C // self.n_heads).transpose(1,2)\n",
        "    K = K.view(B,T, self.n_heads, C // self.n_heads).transpose(1,2)\n",
        "    V = V.view(B,T, self.n_heads, C // self.n_heads).transpose(1,2)\n",
        "\n",
        "    '''temp = Q @ K.transpose(-2,-1) / (1/ math.sqrt(self.config.n_embed))\n",
        "    temp = temp.masked_fill(self.bias[:,:,:T,:T]== 0 , float('-inf') )\n",
        "    temp = F.softmax(temp, dim=-1)\n",
        "    y = temp @ V'''\n",
        "\n",
        "    y = F.scaled_dot_product_attention(Q,K,V, is_causal= True) # this is faster in comparison with above lines\n",
        "\n",
        "    y = y.transpose(1,2).contiguous().view(B, T, C)\n",
        "    y = self.c_proj(y)\n",
        "\n",
        "    return y\n",
        "\n",
        "\n",
        "#---------------------------------HiddenBlock ---------------------\n",
        "class HiddenBlock(nn.Module):\n",
        "  def __init__(self, config):\n",
        "    super().__init__()\n",
        "\n",
        "    self.l_norm1 = nn.LayerNorm(config.n_embed)\n",
        "    self.attn    = AttentionBlock(config)\n",
        "    self.l_norm2 = nn.LayerNorm(config.n_embed)\n",
        "    self.mlp     = MLP(config)\n",
        "\n",
        "  def forward(self, x):\n",
        "    x = x + self.attn(self.l_norm1(x))\n",
        "    x = x + self.mlp(self.l_norm2(x))\n",
        "    return x\n",
        "\n",
        "\n",
        "#---------------------------------GPT2 ---------------------------\n",
        "class GPT2(nn.Module):\n",
        "\n",
        "  def __init__(self, config):\n",
        "    super().__init__()\n",
        "\n",
        "    self.config = config\n",
        "\n",
        "    self.transformer = nn.ModuleDict(dict(\n",
        "        word_token_embed = nn.Embedding(config.vocab_size, config.n_embed),\n",
        "        word_pos_embed = nn.Embedding(config.block_size, config.n_embed),\n",
        "        hiddens = nn.ModuleList([HiddenBlock(config) for i in range(config.n_layers)]),\n",
        "        layer_norm = nn.LayerNorm(config.n_embed) # this is new and added in GPT2( is not in the original transformer architecture)\n",
        "    ))\n",
        "    self.linear = nn.Linear(config.n_embed, config.vocab_size, bias=False)\n",
        "\n",
        "    # weight sharing : because these two have the same shape, by sharing the weights less parameters are needed and the model is light.\n",
        "    # there is no need to train the model through the first layer and backward the gradient to the wte.\n",
        "    # this decrease the weights to the\n",
        "    self.transformer.word_token_embed.weight = self.linear.weight\n",
        "\n",
        "\n",
        "    #initializing\n",
        "    self.apply(self._init_weights)\n",
        "\n",
        "  def _init_weights(self, module):\n",
        "    std= 0.02                     # generally is around 1/sqrt(d_model). d_model = n_embed\n",
        "    if isinstance(module, nn.Linear):\n",
        "      if hasattr(module, \"SKAIL\"):\n",
        "        std *= (2 * self.config.n_layers) **-0.5          # in initialization of residual layers, we skail the weights by a factor of 1/sqrt(N) where N is # of residual layers\n",
        "      torch.nn.init.normal_(module.weight, mean=0, std=std)\n",
        "      if module.bias is not None:\n",
        "        torch.nn.init.zeros_(module.bias)\n",
        "    elif isinstance(module, nn.Embedding):\n",
        "      torch.nn.init.normal_(module.weight, mean=0, std=0.02)\n",
        "\n",
        "\n",
        "\n",
        "  def forward(self, x, targets= None):\n",
        "\n",
        "    B, T = x.size()\n",
        "    assert T <= self.config.block_size , \" Error T\"\n",
        "\n",
        "    pos_e_idx = torch.arange(0, T, dtype= torch.long, device =device)\n",
        "    wpe       = self.transformer.word_pos_embed(pos_e_idx)\n",
        "    wte       = self.transformer.word_token_embed(x)\n",
        "    x =  wte + wpe\n",
        "\n",
        "    for h in self.transformer.hiddens:\n",
        "      x = h(x)\n",
        "\n",
        "    x = self.transformer.layer_norm(x)\n",
        "    y = self.linear(x)\n",
        "    '''loss = None\n",
        "    if targets is not None:\n",
        "      loss = F.cross_entropy(y.view(-1, y.size(-1)), targets.view(-1))'''\n",
        "\n",
        "    return y #, loss\n",
        "\n"
      ],
      "metadata": {
        "id": "s07BuIygLQqm"
      },
      "execution_count": null,
      "outputs": []
    },
    {
      "cell_type": "markdown",
      "source": [
        "## Train"
      ],
      "metadata": {
        "id": "iIY3cmzPCmx3"
      }
    },
    {
      "cell_type": "code",
      "source": [
        "def train_one_epoch(model, train_loader, loss_fn, optimizer, metric, epoch=None):\n",
        "  model.train()\n",
        "  loss_train = AverageMeter()\n",
        "  if metric: metric.reset()\n",
        "\n",
        "  with tqdm.tqdm(train_loader, unit='batch') as tepoch:\n",
        "    for inputs, targets in tepoch:\n",
        "      if epoch:\n",
        "        tepoch.set_description(f'Epoch {epoch}')\n",
        "\n",
        "      inputs = inputs.to(device)\n",
        "      targets = targets.to(device)\n",
        "\n",
        "      outputs = model(inputs, targets)\n",
        "\n",
        "      loss = loss_fn(outputs.reshape(-1, outputs.shape[-1]), targets.flatten())\n",
        "\n",
        "      nn.utils.clip_grad.clip_grad_norm_(model.parameters(), max_norm=1.0)\n",
        "\n",
        "      loss.backward()\n",
        "\n",
        "      optimizer.step()\n",
        "      optimizer.zero_grad()\n",
        "\n",
        "      loss_train.update(loss.item(), n=len(targets))\n",
        "      if metric:\n",
        "        metric.update(outputs, targets)\n",
        "        metric_train_val = metric.compute().item()\n",
        "      else:\n",
        "        metric_train_val = None\n",
        "\n",
        "      tepoch.set_postfix(loss=loss_train.avg, metric=metric_train_val)\n",
        "\n",
        "    return model, loss_train.avg, metric_train_val"
      ],
      "metadata": {
        "id": "kIpW4iYxCpN8"
      },
      "execution_count": null,
      "outputs": []
    },
    {
      "cell_type": "markdown",
      "source": [
        "## Validation"
      ],
      "metadata": {
        "id": "JxOaB4rBI6_n"
      }
    },
    {
      "cell_type": "code",
      "source": [
        "def evaluate(model, test_loader, loss_fn, metric= None):\n",
        "  model.eval()\n",
        "  loss_eval = AverageMeter()\n",
        "  if metric: metric.reset()\n",
        "\n",
        "  with torch.inference_mode():\n",
        "    for inputs, targets in test_loader:\n",
        "      inputs = inputs.to(device)\n",
        "      targets = targets.to(device)\n",
        "\n",
        "      outputs = model(inputs, targets)\n",
        "\n",
        "      loss = loss_fn(outputs.reshape(-1, outputs.shape[-1]), targets.flatten())\n",
        "      loss_eval.update(loss.item(), n=len(targets))\n",
        "\n",
        "      if metric: metric(outputs, targets)\n",
        "\n",
        "  return loss_eval.avg, metric.compute().item() if metric else None"
      ],
      "metadata": {
        "id": "51dN56rdI9pF"
      },
      "execution_count": null,
      "outputs": []
    },
    {
      "cell_type": "markdown",
      "source": [
        "## Training Process"
      ],
      "metadata": {
        "id": "tmS7IBC63tet"
      }
    },
    {
      "cell_type": "code",
      "source": [
        "torch.manual_seed(100)\n",
        "if torch.cuda.is_available():\n",
        "  torch.cuda.manual_seed(100)\n",
        "\n",
        "# 10 mantissa bits explicitly stored. in some GPUs works\n",
        "torch.set_float32_matmul_precision('high')\n",
        "\n",
        "model = GPT2(GPTConfig()) # its better to use numbers that are divisible to 2,3,8,16,32,64,...\n",
        "model.to(device)\n",
        "#model = torch.compile(model)\n",
        "\n",
        "optimizer = torch.optim.AdamW(model.parameters(), lr=3e-4, betas=(0.9,0.95), eps= 1e-8)\n",
        "loss_fn = nn.CrossEntropyLoss()"
      ],
      "metadata": {
        "id": "qKFXLkknJRvL"
      },
      "execution_count": null,
      "outputs": []
    },
    {
      "cell_type": "code",
      "source": [
        "loss_train_hist = []\n",
        "loss_valid_hist = []\n",
        "\n",
        "metric_train_hist = []\n",
        "metric_valid_hist = []\n",
        "\n",
        "best_loss_valid = torch.inf\n",
        "epoch_counter = 0"
      ],
      "metadata": {
        "id": "RVsaAJJAJlR9"
      },
      "execution_count": null,
      "outputs": []
    },
    {
      "cell_type": "code",
      "source": [
        "\n",
        "num_epochs=1\n",
        "\n",
        "for epoch in range(num_epochs):\n",
        "\n",
        "  # Training\n",
        "  model, loss_train, _ = train_one_epoch(model, train_loader, loss_fn, optimizer, None, epoch+1)\n",
        "\n",
        "   # Validation\n",
        "  loss_valid, metric_valid = evaluate(model,\n",
        "                                     valid_loader,\n",
        "                                     loss_fn,\n",
        "                                     None)\n",
        "\n",
        "  loss_train_hist.append(loss_train)\n",
        "  loss_valid_hist.append(loss_valid)\n",
        "\n",
        "  #metric_train_hist.append(metric_train)\n",
        "  #metric_valid_hist.append(metric_valid)\n",
        "\n",
        "  if loss_valid < best_loss_valid:\n",
        "    #torch.save(model, f'model.pt')\n",
        "    best_loss_valid = loss_valid\n",
        "    print('Model Saved!')\n",
        "\n",
        "  print(f'Valid: Loss = {loss_valid:.4}, Metric = None')\n",
        "  print()\n",
        "\n",
        "  '''if wandb_enable:\n",
        "    wandb.log({\"metric_train\": metric_train, \"loss_train\": loss_train,\n",
        "                \"metric_valid\": metric_valid, \"loss_valid\": loss_valid})'''\n",
        "\n",
        "  epoch_counter += 1\n"
      ],
      "metadata": {
        "colab": {
          "base_uri": "https://localhost:8080/"
        },
        "id": "gNQj07TvvBSw",
        "outputId": "0c0bf614-81e0-4d07-fbd5-f5feb2f29c06"
      },
      "execution_count": null,
      "outputs": [
        {
          "output_type": "stream",
          "name": "stderr",
          "text": [
            "Epoch 1: 100%|██████████| 2113/2113 [02:43<00:00, 12.90batch/s, loss=4.31, metric=None]\n"
          ]
        },
        {
          "output_type": "stream",
          "name": "stdout",
          "text": [
            "Model Saved!\n",
            "Valid: Loss = 5.261, Metric = None\n",
            "\n"
          ]
        }
      ]
    },
    {
      "cell_type": "code",
      "source": [
        "#torch.save(model, f'model.pt')"
      ],
      "metadata": {
        "id": "562NC7wTuGcJ"
      },
      "execution_count": null,
      "outputs": []
    },
    {
      "cell_type": "code",
      "source": [
        "#from google.colab import drive\n",
        "#drive.mount('/content/drive')"
      ],
      "metadata": {
        "colab": {
          "base_uri": "https://localhost:8080/"
        },
        "id": "5AgQpyoJuUzU",
        "outputId": "44bb1c74-548f-4beb-ec62-20374e54214f"
      },
      "execution_count": null,
      "outputs": [
        {
          "output_type": "stream",
          "name": "stdout",
          "text": [
            "Mounted at /content/drive\n"
          ]
        }
      ]
    },
    {
      "cell_type": "code",
      "source": [
        "#!cp '/content/model.pt'  '/content/drive/MyDrive/Colab Notebooks/GPT-2'"
      ],
      "metadata": {
        "id": "50b5RWDQu01R"
      },
      "execution_count": null,
      "outputs": []
    },
    {
      "cell_type": "markdown",
      "source": [
        "### Plot"
      ],
      "metadata": {
        "id": "6gSG2jcwqXWQ"
      }
    },
    {
      "cell_type": "code",
      "source": [
        "plt.figure(figsize=(8, 6))\n",
        "\n",
        "plt.plot(range(epoch_counter), loss_train_hist, 'r-', label='Train')\n",
        "plt.plot(range(epoch_counter), loss_valid_hist, 'b-', label='Validation')\n",
        "\n",
        "plt.xlabel('Epoch')\n",
        "plt.ylabel('loss')\n",
        "plt.grid(True)\n",
        "plt.legend()"
      ],
      "metadata": {
        "colab": {
          "base_uri": "https://localhost:8080/",
          "height": 559
        },
        "id": "MLEE9bQMqZ8u",
        "outputId": "7d5a6c1e-6efd-46f3-d031-2fbdef31efde"
      },
      "execution_count": null,
      "outputs": [
        {
          "output_type": "execute_result",
          "data": {
            "text/plain": [
              "<matplotlib.legend.Legend at 0x7d8d74963dc0>"
            ]
          },
          "metadata": {},
          "execution_count": 19
        },
        {
          "output_type": "display_data",
          "data": {
            "text/plain": [
              "<Figure size 800x600 with 1 Axes>"
            ],
            "image/png": "[encoded data removed]"
          },
          "metadata": {}
        }
      ]
    },
    {
      "cell_type": "markdown",
      "source": [
        "## Inference"
      ],
      "metadata": {
        "id": "Qk8jRtuI3P9E"
      }
    },
    {
      "cell_type": "code",
      "source": [
        "class Generate():\n",
        "  def __init__(self, model, max_lenght, num_return_sequences ):\n",
        "    self.encoder = tiktoken.get_encoding('gpt2')\n",
        "    self.device = device\n",
        "    self.model = model\n",
        "    self.max_lenght= max_lenght\n",
        "    self.num_return_sequences = num_return_sequences\n",
        "\n",
        "  def __call__(self, input):\n",
        "\n",
        "    tokens = self.encoder.encode(input)\n",
        "    tokens = torch.tensor(tokens, dtype=torch.long)\n",
        "    tokens = tokens.unsqueeze(0).repeat(self.num_return_sequences,1)\n",
        "    input= tokens.to(device)\n",
        "\n",
        "    torch.manual_seed(10)\n",
        "    torch.cuda.manual_seed(10)\n",
        "\n",
        "    while input.size(1)< self.max_lenght:\n",
        "      with torch.no_grad():\n",
        "        logits = self.model(input)\n",
        "\n",
        "        logits = logits[:, -1, :]\n",
        "        probs = F.softmax(logits, dim=-1)\n",
        "        topk_probs, topk_indices  = torch.topk(probs, 5, dim=-1 )\n",
        "        ix =  torch.multinomial(topk_probs, 1)\n",
        "        xcol = torch.gather(topk_indices,-1,  ix)\n",
        "\n",
        "        input = torch.cat((input, xcol), dim=1)\n",
        "\n",
        "\n",
        "    result_tokens = input[0].tolist()\n",
        "    sentence = self.encoder.decode(result_tokens)\n",
        "    return sentence\n"
      ],
      "metadata": {
        "id": "I7t3y5YNGM0O"
      },
      "execution_count": null,
      "outputs": []
    },
    {
      "cell_type": "code",
      "source": [
        "\n",
        "x = \" I am a Programmer.\"\n",
        "generator = Generate(model, 32, 1 )\n",
        "output = generator(x)\n",
        "print(output)\n",
        "\n"
      ],
      "metadata": {
        "colab": {
          "base_uri": "https://localhost:8080/"
        },
        "id": "oAIUZCvh0wlF",
        "outputId": "ef91ed48-d27d-4c3e-d833-97d2631f6126"
      },
      "execution_count": null,
      "outputs": [
        {
          "output_type": "stream",
          "name": "stdout",
          "text": [
            " I am a Programmer.\n",
            "O, my liege: I'll be a king's love\n",
            "To make my brother, my heart to be a grave\n"
          ]
        }
      ]
    }
  ]
}